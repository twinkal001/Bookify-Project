{
 "cells": [
  {
   "cell_type": "code",
   "execution_count": 1,
   "id": "82089285",
   "metadata": {},
   "outputs": [],
   "source": [
    "# !pip install pyspark"
   ]
  },
  {
   "cell_type": "code",
   "execution_count": 2,
   "id": "b618a8ea",
   "metadata": {},
   "outputs": [],
   "source": [
    "import pyspark"
   ]
  },
  {
   "cell_type": "code",
   "execution_count": 3,
   "id": "c0beaf70",
   "metadata": {},
   "outputs": [],
   "source": [
    "from pyspark.sql import SparkSession"
   ]
  },
  {
   "cell_type": "code",
   "execution_count": 4,
   "id": "d083a3dc",
   "metadata": {},
   "outputs": [],
   "source": [
    "# spark = SparkSession.builder.appName('BRS').getOrCreate()\n",
    "spark = SparkSession.builder.appName(\"Spark SQL basic example\").enableHiveSupport().getOrCreate()"
   ]
  },
  {
   "cell_type": "code",
   "execution_count": 5,
   "id": "ddf3afa3",
   "metadata": {},
   "outputs": [
    {
     "data": {
      "text/html": [
       "\n",
       "            <div>\n",
       "                <p><b>SparkSession - hive</b></p>\n",
       "                \n",
       "        <div>\n",
       "            <p><b>SparkContext</b></p>\n",
       "\n",
       "            <p><a href=\"http://DELL:4040\">Spark UI</a></p>\n",
       "\n",
       "            <dl>\n",
       "              <dt>Version</dt>\n",
       "                <dd><code>v3.3.2</code></dd>\n",
       "              <dt>Master</dt>\n",
       "                <dd><code>local[*]</code></dd>\n",
       "              <dt>AppName</dt>\n",
       "                <dd><code>Spark SQL basic example</code></dd>\n",
       "            </dl>\n",
       "        </div>\n",
       "        \n",
       "            </div>\n",
       "        "
      ],
      "text/plain": [
       "<pyspark.sql.session.SparkSession at 0x2159e001e50>"
      ]
     },
     "execution_count": 5,
     "metadata": {},
     "output_type": "execute_result"
    }
   ],
   "source": [
    "spark"
   ]
  },
  {
   "cell_type": "code",
   "execution_count": 6,
   "id": "fc799682",
   "metadata": {},
   "outputs": [],
   "source": [
    "# Books dataset"
   ]
  },
  {
   "cell_type": "code",
   "execution_count": 7,
   "id": "43f3bb6d",
   "metadata": {},
   "outputs": [],
   "source": [
    "from pyspark.sql.types import StructType, StringType, IntegerType, DoubleType, LongType"
   ]
  },
  {
   "cell_type": "code",
   "execution_count": 8,
   "id": "55d66407",
   "metadata": {},
   "outputs": [],
   "source": [
    "schema1=StructType().add(\"ISBN\",LongType(),True).add(\"BookTitle\",StringType(),True).add(\"BookAuthor\",StringType(),True).add(\"YearOfPublication\",IntegerType(),True).add(\"Publisher\",StringType(),True).add(\"ImageURLS\",StringType(),True).add(\"ImageURLM\",StringType(),True).add(\"ImageURLL\",StringType(),True)"
   ]
  },
  {
   "cell_type": "code",
   "execution_count": 9,
   "id": "0e6dd9ce",
   "metadata": {},
   "outputs": [
    {
     "name": "stdout",
     "output_type": "stream",
     "text": [
      "StructType([StructField('ISBN', LongType(), True), StructField('BookTitle', StringType(), True), StructField('BookAuthor', StringType(), True), StructField('YearOfPublication', IntegerType(), True), StructField('Publisher', StringType(), True), StructField('ImageURLS', StringType(), True), StructField('ImageURLM', StringType(), True), StructField('ImageURLL', StringType(), True)])\n"
     ]
    }
   ],
   "source": [
    "print(schema1) "
   ]
  },
  {
   "cell_type": "code",
   "execution_count": 10,
   "id": "116cedef",
   "metadata": {},
   "outputs": [],
   "source": [
    "df_books=spark.read.format(\"csv\").option(\"header\",\"True\").schema(schema1).load(\"C:/Users/pppon/BRS_FINAL/Cleaned Data/cleaned_books.csv\")"
   ]
  },
  {
   "cell_type": "code",
   "execution_count": 11,
   "id": "dbe9d31a",
   "metadata": {},
   "outputs": [
    {
     "name": "stdout",
     "output_type": "stream",
     "text": [
      "root\n",
      " |-- ISBN: long (nullable = true)\n",
      " |-- BookTitle: string (nullable = true)\n",
      " |-- BookAuthor: string (nullable = true)\n",
      " |-- YearOfPublication: integer (nullable = true)\n",
      " |-- Publisher: string (nullable = true)\n",
      " |-- ImageURLS: string (nullable = true)\n",
      " |-- ImageURLM: string (nullable = true)\n",
      " |-- ImageURLL: string (nullable = true)\n",
      "\n"
     ]
    }
   ],
   "source": [
    "df_books.printSchema()"
   ]
  },
  {
   "cell_type": "code",
   "execution_count": 12,
   "id": "8167c6b5",
   "metadata": {},
   "outputs": [
    {
     "data": {
      "text/html": [
       "<div>\n",
       "<style scoped>\n",
       "    .dataframe tbody tr th:only-of-type {\n",
       "        vertical-align: middle;\n",
       "    }\n",
       "\n",
       "    .dataframe tbody tr th {\n",
       "        vertical-align: top;\n",
       "    }\n",
       "\n",
       "    .dataframe thead th {\n",
       "        text-align: right;\n",
       "    }\n",
       "</style>\n",
       "<table border=\"1\" class=\"dataframe\">\n",
       "  <thead>\n",
       "    <tr style=\"text-align: right;\">\n",
       "      <th></th>\n",
       "      <th>ISBN</th>\n",
       "      <th>BookTitle</th>\n",
       "      <th>BookAuthor</th>\n",
       "      <th>YearOfPublication</th>\n",
       "      <th>Publisher</th>\n",
       "      <th>ImageURLS</th>\n",
       "      <th>ImageURLM</th>\n",
       "      <th>ImageURLL</th>\n",
       "    </tr>\n",
       "  </thead>\n",
       "  <tbody>\n",
       "    <tr>\n",
       "      <th>0</th>\n",
       "      <td>195153448.0</td>\n",
       "      <td>Classical Mythology</td>\n",
       "      <td>Mark P. O. Morford</td>\n",
       "      <td>2002.0</td>\n",
       "      <td>Oxford University Press</td>\n",
       "      <td>http://images.amazon.com/images/P/0195153448.0...</td>\n",
       "      <td>http://images.amazon.com/images/P/0195153448.0...</td>\n",
       "      <td>http://images.amazon.com/images/P/0195153448.0...</td>\n",
       "    </tr>\n",
       "    <tr>\n",
       "      <th>1</th>\n",
       "      <td>2005018.0</td>\n",
       "      <td>Clara Callan</td>\n",
       "      <td>Richard Bruce Wright</td>\n",
       "      <td>2001.0</td>\n",
       "      <td>HarperFlamingo Canada</td>\n",
       "      <td>http://images.amazon.com/images/P/0002005018.0...</td>\n",
       "      <td>http://images.amazon.com/images/P/0002005018.0...</td>\n",
       "      <td>http://images.amazon.com/images/P/0002005018.0...</td>\n",
       "    </tr>\n",
       "    <tr>\n",
       "      <th>2</th>\n",
       "      <td>60973129.0</td>\n",
       "      <td>Decision in Normandy</td>\n",
       "      <td>Carlo D'Este</td>\n",
       "      <td>1991.0</td>\n",
       "      <td>HarperPerennial</td>\n",
       "      <td>http://images.amazon.com/images/P/0060973129.0...</td>\n",
       "      <td>http://images.amazon.com/images/P/0060973129.0...</td>\n",
       "      <td>http://images.amazon.com/images/P/0060973129.0...</td>\n",
       "    </tr>\n",
       "    <tr>\n",
       "      <th>3</th>\n",
       "      <td>374157065.0</td>\n",
       "      <td>Flu: The Story of the Great Influenza Pandemic...</td>\n",
       "      <td>Gina Bari Kolata</td>\n",
       "      <td>1999.0</td>\n",
       "      <td>Farrar Straus Giroux</td>\n",
       "      <td>http://images.amazon.com/images/P/0374157065.0...</td>\n",
       "      <td>http://images.amazon.com/images/P/0374157065.0...</td>\n",
       "      <td>http://images.amazon.com/images/P/0374157065.0...</td>\n",
       "    </tr>\n",
       "    <tr>\n",
       "      <th>4</th>\n",
       "      <td>393045218.0</td>\n",
       "      <td>The Mummies of Urumchi</td>\n",
       "      <td>E. J. W. Barber</td>\n",
       "      <td>1999.0</td>\n",
       "      <td>W. W. Norton &amp;amp; Company</td>\n",
       "      <td>http://images.amazon.com/images/P/0393045218.0...</td>\n",
       "      <td>http://images.amazon.com/images/P/0393045218.0...</td>\n",
       "      <td>http://images.amazon.com/images/P/0393045218.0...</td>\n",
       "    </tr>\n",
       "    <tr>\n",
       "      <th>...</th>\n",
       "      <td>...</td>\n",
       "      <td>...</td>\n",
       "      <td>...</td>\n",
       "      <td>...</td>\n",
       "      <td>...</td>\n",
       "      <td>...</td>\n",
       "      <td>...</td>\n",
       "      <td>...</td>\n",
       "    </tr>\n",
       "    <tr>\n",
       "      <th>271355</th>\n",
       "      <td>440400988.0</td>\n",
       "      <td>There's a Bat in Bunk Five</td>\n",
       "      <td>Paula Danziger</td>\n",
       "      <td>1988.0</td>\n",
       "      <td>Random House Childrens Pub (Mm)</td>\n",
       "      <td>http://images.amazon.com/images/P/0440400988.0...</td>\n",
       "      <td>http://images.amazon.com/images/P/0440400988.0...</td>\n",
       "      <td>http://images.amazon.com/images/P/0440400988.0...</td>\n",
       "    </tr>\n",
       "    <tr>\n",
       "      <th>271356</th>\n",
       "      <td>525447644.0</td>\n",
       "      <td>From One to One Hundred</td>\n",
       "      <td>Teri Sloat</td>\n",
       "      <td>1991.0</td>\n",
       "      <td>Dutton Books</td>\n",
       "      <td>http://images.amazon.com/images/P/0525447644.0...</td>\n",
       "      <td>http://images.amazon.com/images/P/0525447644.0...</td>\n",
       "      <td>http://images.amazon.com/images/P/0525447644.0...</td>\n",
       "    </tr>\n",
       "    <tr>\n",
       "      <th>271357</th>\n",
       "      <td>NaN</td>\n",
       "      <td>Lily Dale : The True Story of the Town that Ta...</td>\n",
       "      <td>Christine Wicker</td>\n",
       "      <td>2004.0</td>\n",
       "      <td>HarperSanFrancisco</td>\n",
       "      <td>http://images.amazon.com/images/P/006008667X.0...</td>\n",
       "      <td>http://images.amazon.com/images/P/006008667X.0...</td>\n",
       "      <td>http://images.amazon.com/images/P/006008667X.0...</td>\n",
       "    </tr>\n",
       "    <tr>\n",
       "      <th>271358</th>\n",
       "      <td>192126040.0</td>\n",
       "      <td>Republic (World's Classics)</td>\n",
       "      <td>Plato</td>\n",
       "      <td>1996.0</td>\n",
       "      <td>Oxford University Press</td>\n",
       "      <td>http://images.amazon.com/images/P/0192126040.0...</td>\n",
       "      <td>http://images.amazon.com/images/P/0192126040.0...</td>\n",
       "      <td>http://images.amazon.com/images/P/0192126040.0...</td>\n",
       "    </tr>\n",
       "    <tr>\n",
       "      <th>271359</th>\n",
       "      <td>767409752.0</td>\n",
       "      <td>A Guided Tour of Rene Descartes' Meditations o...</td>\n",
       "      <td>Christopher  Biffle</td>\n",
       "      <td>2000.0</td>\n",
       "      <td>McGraw-Hill Humanities/Social Sciences/Languages</td>\n",
       "      <td>http://images.amazon.com/images/P/0767409752.0...</td>\n",
       "      <td>http://images.amazon.com/images/P/0767409752.0...</td>\n",
       "      <td>http://images.amazon.com/images/P/0767409752.0...</td>\n",
       "    </tr>\n",
       "  </tbody>\n",
       "</table>\n",
       "<p>271360 rows × 8 columns</p>\n",
       "</div>"
      ],
      "text/plain": [
       "               ISBN                                          BookTitle  \\\n",
       "0       195153448.0                                Classical Mythology   \n",
       "1         2005018.0                                       Clara Callan   \n",
       "2        60973129.0                               Decision in Normandy   \n",
       "3       374157065.0  Flu: The Story of the Great Influenza Pandemic...   \n",
       "4       393045218.0                             The Mummies of Urumchi   \n",
       "...             ...                                                ...   \n",
       "271355  440400988.0                         There's a Bat in Bunk Five   \n",
       "271356  525447644.0                            From One to One Hundred   \n",
       "271357          NaN  Lily Dale : The True Story of the Town that Ta...   \n",
       "271358  192126040.0                        Republic (World's Classics)   \n",
       "271359  767409752.0  A Guided Tour of Rene Descartes' Meditations o...   \n",
       "\n",
       "                  BookAuthor  YearOfPublication  \\\n",
       "0         Mark P. O. Morford             2002.0   \n",
       "1       Richard Bruce Wright             2001.0   \n",
       "2               Carlo D'Este             1991.0   \n",
       "3           Gina Bari Kolata             1999.0   \n",
       "4            E. J. W. Barber             1999.0   \n",
       "...                      ...                ...   \n",
       "271355        Paula Danziger             1988.0   \n",
       "271356            Teri Sloat             1991.0   \n",
       "271357      Christine Wicker             2004.0   \n",
       "271358                 Plato             1996.0   \n",
       "271359   Christopher  Biffle             2000.0   \n",
       "\n",
       "                                               Publisher  \\\n",
       "0                                Oxford University Press   \n",
       "1                                  HarperFlamingo Canada   \n",
       "2                                        HarperPerennial   \n",
       "3                                   Farrar Straus Giroux   \n",
       "4                             W. W. Norton &amp; Company   \n",
       "...                                                  ...   \n",
       "271355                   Random House Childrens Pub (Mm)   \n",
       "271356                                      Dutton Books   \n",
       "271357                                HarperSanFrancisco   \n",
       "271358                           Oxford University Press   \n",
       "271359  McGraw-Hill Humanities/Social Sciences/Languages   \n",
       "\n",
       "                                                ImageURLS  \\\n",
       "0       http://images.amazon.com/images/P/0195153448.0...   \n",
       "1       http://images.amazon.com/images/P/0002005018.0...   \n",
       "2       http://images.amazon.com/images/P/0060973129.0...   \n",
       "3       http://images.amazon.com/images/P/0374157065.0...   \n",
       "4       http://images.amazon.com/images/P/0393045218.0...   \n",
       "...                                                   ...   \n",
       "271355  http://images.amazon.com/images/P/0440400988.0...   \n",
       "271356  http://images.amazon.com/images/P/0525447644.0...   \n",
       "271357  http://images.amazon.com/images/P/006008667X.0...   \n",
       "271358  http://images.amazon.com/images/P/0192126040.0...   \n",
       "271359  http://images.amazon.com/images/P/0767409752.0...   \n",
       "\n",
       "                                                ImageURLM  \\\n",
       "0       http://images.amazon.com/images/P/0195153448.0...   \n",
       "1       http://images.amazon.com/images/P/0002005018.0...   \n",
       "2       http://images.amazon.com/images/P/0060973129.0...   \n",
       "3       http://images.amazon.com/images/P/0374157065.0...   \n",
       "4       http://images.amazon.com/images/P/0393045218.0...   \n",
       "...                                                   ...   \n",
       "271355  http://images.amazon.com/images/P/0440400988.0...   \n",
       "271356  http://images.amazon.com/images/P/0525447644.0...   \n",
       "271357  http://images.amazon.com/images/P/006008667X.0...   \n",
       "271358  http://images.amazon.com/images/P/0192126040.0...   \n",
       "271359  http://images.amazon.com/images/P/0767409752.0...   \n",
       "\n",
       "                                                ImageURLL  \n",
       "0       http://images.amazon.com/images/P/0195153448.0...  \n",
       "1       http://images.amazon.com/images/P/0002005018.0...  \n",
       "2       http://images.amazon.com/images/P/0060973129.0...  \n",
       "3       http://images.amazon.com/images/P/0374157065.0...  \n",
       "4       http://images.amazon.com/images/P/0393045218.0...  \n",
       "...                                                   ...  \n",
       "271355  http://images.amazon.com/images/P/0440400988.0...  \n",
       "271356  http://images.amazon.com/images/P/0525447644.0...  \n",
       "271357  http://images.amazon.com/images/P/006008667X.0...  \n",
       "271358  http://images.amazon.com/images/P/0192126040.0...  \n",
       "271359  http://images.amazon.com/images/P/0767409752.0...  \n",
       "\n",
       "[271360 rows x 8 columns]"
      ]
     },
     "execution_count": 12,
     "metadata": {},
     "output_type": "execute_result"
    }
   ],
   "source": [
    "df_books.toPandas()"
   ]
  },
  {
   "cell_type": "code",
   "execution_count": 13,
   "id": "df0a0410",
   "metadata": {},
   "outputs": [
    {
     "name": "stderr",
     "output_type": "stream",
     "text": [
      "C:\\Users\\pppon\\AppData\\Roaming\\Python\\Python39\\site-packages\\pyspark\\sql\\dataframe.py:229: FutureWarning: Deprecated in 2.0, use createOrReplaceTempView instead.\n",
      "  warnings.warn(\"Deprecated in 2.0, use createOrReplaceTempView instead.\", FutureWarning)\n"
     ]
    }
   ],
   "source": [
    "df_books.registerTempTable(\"books\")"
   ]
  },
  {
   "cell_type": "code",
   "execution_count": 14,
   "id": "1d3c2330",
   "metadata": {},
   "outputs": [],
   "source": [
    "# Total number of publishers"
   ]
  },
  {
   "cell_type": "code",
   "execution_count": 15,
   "id": "7ddffbed",
   "metadata": {},
   "outputs": [],
   "source": [
    "query1=spark.sql(\"select distinct Publisher from books\")"
   ]
  },
  {
   "cell_type": "code",
   "execution_count": 16,
   "id": "97568e2d",
   "metadata": {},
   "outputs": [
    {
     "data": {
      "text/plain": [
       "16841"
      ]
     },
     "execution_count": 16,
     "metadata": {},
     "output_type": "execute_result"
    }
   ],
   "source": [
    "query1.count()"
   ]
  },
  {
   "cell_type": "code",
   "execution_count": 17,
   "id": "2169a5ec",
   "metadata": {},
   "outputs": [],
   "source": [
    "# Total number of Books"
   ]
  },
  {
   "cell_type": "code",
   "execution_count": 18,
   "id": "52936abd",
   "metadata": {},
   "outputs": [],
   "source": [
    "query2=spark.sql(\"select distinct BookTitle from books\")"
   ]
  },
  {
   "cell_type": "code",
   "execution_count": 19,
   "id": "e8ee13ea",
   "metadata": {},
   "outputs": [
    {
     "data": {
      "text/plain": [
       "242134"
      ]
     },
     "execution_count": 19,
     "metadata": {},
     "output_type": "execute_result"
    }
   ],
   "source": [
    "query2.count()"
   ]
  },
  {
   "cell_type": "code",
   "execution_count": 20,
   "id": "75154c73",
   "metadata": {},
   "outputs": [],
   "source": [
    "# Total number of Authors"
   ]
  },
  {
   "cell_type": "code",
   "execution_count": 21,
   "id": "d05211ca",
   "metadata": {},
   "outputs": [],
   "source": [
    "query3=spark.sql(\"select distinct BookAuthor from books\")"
   ]
  },
  {
   "cell_type": "code",
   "execution_count": 22,
   "id": "de793105",
   "metadata": {},
   "outputs": [
    {
     "data": {
      "text/plain": [
       "102051"
      ]
     },
     "execution_count": 22,
     "metadata": {},
     "output_type": "execute_result"
    }
   ],
   "source": [
    "query3.count()"
   ]
  },
  {
   "cell_type": "code",
   "execution_count": 23,
   "id": "9d126725",
   "metadata": {},
   "outputs": [],
   "source": [
    "# Year span"
   ]
  },
  {
   "cell_type": "code",
   "execution_count": 24,
   "id": "d8a02df2",
   "metadata": {},
   "outputs": [],
   "source": [
    "# query4=spark.sql(\"select count(distinct(books.YearOfPublication)) as Years, min(YearOfPublication) as Minimum, max(YearOfPublication) as Maximum from books\")\n",
    "query4=spark.sql(\"select min(YearOfPublication) as Minimum, max(YearOfPublication) as Maximum from books\")"
   ]
  },
  {
   "cell_type": "code",
   "execution_count": 25,
   "id": "2da1d4f1",
   "metadata": {},
   "outputs": [
    {
     "name": "stdout",
     "output_type": "stream",
     "text": [
      "+-------+-------+\n",
      "|Minimum|Maximum|\n",
      "+-------+-------+\n",
      "|   1806|   2021|\n",
      "+-------+-------+\n",
      "\n"
     ]
    }
   ],
   "source": [
    "query4.show()"
   ]
  },
  {
   "cell_type": "code",
   "execution_count": 26,
   "id": "25e16706",
   "metadata": {},
   "outputs": [],
   "source": [
    "# Finding in which year maximum number of books were published"
   ]
  },
  {
   "cell_type": "code",
   "execution_count": 27,
   "id": "c91ee241",
   "metadata": {},
   "outputs": [],
   "source": [
    "query5=spark.sql(\"select YearOfPublication, count(YearOfPublication) as Count from books group by YearOfPublication order by Count desc limit 1\")"
   ]
  },
  {
   "cell_type": "code",
   "execution_count": 28,
   "id": "69ed03ed",
   "metadata": {},
   "outputs": [
    {
     "name": "stdout",
     "output_type": "stream",
     "text": [
      "+-----------------+-----+\n",
      "|YearOfPublication|Count|\n",
      "+-----------------+-----+\n",
      "|             2002|22255|\n",
      "+-----------------+-----+\n",
      "\n"
     ]
    }
   ],
   "source": [
    "query5.show()"
   ]
  },
  {
   "cell_type": "code",
   "execution_count": 29,
   "id": "447095f7",
   "metadata": {},
   "outputs": [],
   "source": [
    "# Users dataset"
   ]
  },
  {
   "cell_type": "code",
   "execution_count": 30,
   "id": "2673b128",
   "metadata": {},
   "outputs": [],
   "source": [
    "schema2=StructType().add(\"UserID\",LongType(),True).add(\"Location\",StringType(),True).add(\"Age\",IntegerType(),True)"
   ]
  },
  {
   "cell_type": "code",
   "execution_count": 31,
   "id": "ee01227c",
   "metadata": {},
   "outputs": [
    {
     "name": "stdout",
     "output_type": "stream",
     "text": [
      "StructType([StructField('UserID', LongType(), True), StructField('Location', StringType(), True), StructField('Age', IntegerType(), True)])\n"
     ]
    }
   ],
   "source": [
    "print(schema2) "
   ]
  },
  {
   "cell_type": "code",
   "execution_count": 32,
   "id": "3b01b20e",
   "metadata": {},
   "outputs": [],
   "source": [
    "df_users=spark.read.format(\"csv\").option(\"header\",\"True\").schema(schema2).load(\"C:/Users/pppon/BRS_FINAL/Cleaned Data/cleaned_users.csv\")"
   ]
  },
  {
   "cell_type": "code",
   "execution_count": 33,
   "id": "b5063b2d",
   "metadata": {},
   "outputs": [
    {
     "name": "stdout",
     "output_type": "stream",
     "text": [
      "root\n",
      " |-- UserID: long (nullable = true)\n",
      " |-- Location: string (nullable = true)\n",
      " |-- Age: integer (nullable = true)\n",
      "\n"
     ]
    }
   ],
   "source": [
    "df_users.printSchema()"
   ]
  },
  {
   "cell_type": "code",
   "execution_count": 34,
   "id": "48ea6a04",
   "metadata": {},
   "outputs": [
    {
     "name": "stdout",
     "output_type": "stream",
     "text": [
      "+------+--------------------+---+\n",
      "|UserID|            Location|Age|\n",
      "+------+--------------------+---+\n",
      "|     1|  nyc, new york, usa| 24|\n",
      "|     2|stockton, califor...| 18|\n",
      "|     3|moscow, yukon ter...| 24|\n",
      "|     4|porto, v.n.gaia, ...| 17|\n",
      "|     5|farnborough, hant...| 24|\n",
      "|     6|santa monica, cal...| 61|\n",
      "|     7| washington, dc, usa| 24|\n",
      "|     8|timmins, ontario,...| 24|\n",
      "|     9|germantown, tenne...| 24|\n",
      "|    10|albacete, wiscons...| 26|\n",
      "|    11|melbourne, victor...| 14|\n",
      "|    12|fort bragg, calif...| 24|\n",
      "|    13|barcelona, barcel...| 26|\n",
      "|    14|mediapolis, iowa,...| 24|\n",
      "|    15|calgary, alberta,...| 24|\n",
      "|    16|albuquerque, new ...| 24|\n",
      "|    17|chesapeake, virgi...| 24|\n",
      "|    18|rio de janeiro, r...| 25|\n",
      "|    19|           weston, ,| 14|\n",
      "|    20|langhorne, pennsy...| 19|\n",
      "+------+--------------------+---+\n",
      "only showing top 20 rows\n",
      "\n"
     ]
    }
   ],
   "source": [
    "df_users.show()"
   ]
  },
  {
   "cell_type": "code",
   "execution_count": 35,
   "id": "cf6b6a8f",
   "metadata": {},
   "outputs": [],
   "source": [
    "df_users.registerTempTable(\"users\")"
   ]
  },
  {
   "cell_type": "code",
   "execution_count": 36,
   "id": "59bd3c23",
   "metadata": {},
   "outputs": [],
   "source": [
    "# Total number of users"
   ]
  },
  {
   "cell_type": "code",
   "execution_count": 37,
   "id": "d854e0fd",
   "metadata": {},
   "outputs": [],
   "source": [
    "query6=spark.sql(\"select distinct UserID from users\")"
   ]
  },
  {
   "cell_type": "code",
   "execution_count": 38,
   "id": "d54571ee",
   "metadata": {},
   "outputs": [
    {
     "data": {
      "text/plain": [
       "278859"
      ]
     },
     "execution_count": 38,
     "metadata": {},
     "output_type": "execute_result"
    }
   ],
   "source": [
    "query6.count()"
   ]
  },
  {
   "cell_type": "code",
   "execution_count": 39,
   "id": "c950f406",
   "metadata": {},
   "outputs": [],
   "source": [
    "# Age of maximum no.of users"
   ]
  },
  {
   "cell_type": "code",
   "execution_count": 40,
   "id": "0109e628",
   "metadata": {},
   "outputs": [],
   "source": [
    "query7=spark.sql(\"select Age,count(Age) as Count from users group by Age order by Count desc limit 1\")"
   ]
  },
  {
   "cell_type": "code",
   "execution_count": 41,
   "id": "e3a1283c",
   "metadata": {},
   "outputs": [
    {
     "name": "stdout",
     "output_type": "stream",
     "text": [
      "+---+------+\n",
      "|Age| Count|\n",
      "+---+------+\n",
      "| 24|117428|\n",
      "+---+------+\n",
      "\n"
     ]
    }
   ],
   "source": [
    "query7.show()"
   ]
  },
  {
   "cell_type": "code",
   "execution_count": 42,
   "id": "8569756d",
   "metadata": {},
   "outputs": [],
   "source": [
    "# Finding average age of the users"
   ]
  },
  {
   "cell_type": "code",
   "execution_count": 43,
   "id": "bd49ffde",
   "metadata": {},
   "outputs": [],
   "source": [
    "query8=spark.sql(\"select round(avg(Age)) as Average_Age from users\")"
   ]
  },
  {
   "cell_type": "code",
   "execution_count": 44,
   "id": "7110ce43",
   "metadata": {},
   "outputs": [
    {
     "name": "stdout",
     "output_type": "stream",
     "text": [
      "+-----------+\n",
      "|Average_Age|\n",
      "+-----------+\n",
      "|       30.0|\n",
      "+-----------+\n",
      "\n"
     ]
    }
   ],
   "source": [
    "query8.show()"
   ]
  },
  {
   "cell_type": "code",
   "execution_count": 45,
   "id": "59d84f72",
   "metadata": {},
   "outputs": [],
   "source": [
    "# Ratings dataset"
   ]
  },
  {
   "cell_type": "code",
   "execution_count": 46,
   "id": "9a67f423",
   "metadata": {},
   "outputs": [],
   "source": [
    "schema3=StructType().add(\"UserID\",LongType(),True).add(\"ISBN\",LongType(),True).add(\"BookRating\",IntegerType(),True)"
   ]
  },
  {
   "cell_type": "code",
   "execution_count": 47,
   "id": "938e3c76",
   "metadata": {},
   "outputs": [
    {
     "name": "stdout",
     "output_type": "stream",
     "text": [
      "StructType([StructField('UserID', LongType(), True), StructField('ISBN', LongType(), True), StructField('BookRating', IntegerType(), True)])\n"
     ]
    }
   ],
   "source": [
    "print(schema3) "
   ]
  },
  {
   "cell_type": "code",
   "execution_count": 48,
   "id": "639e0fe3",
   "metadata": {},
   "outputs": [],
   "source": [
    "df_ratings=spark.read.format(\"csv\").option(\"header\",\"True\").schema(schema3).load(\"C:/Users/pppon/BRS_FINAL/Cleaned Data/cleaned_ratings.csv\")"
   ]
  },
  {
   "cell_type": "code",
   "execution_count": 49,
   "id": "25220e79",
   "metadata": {},
   "outputs": [
    {
     "name": "stdout",
     "output_type": "stream",
     "text": [
      "root\n",
      " |-- UserID: long (nullable = true)\n",
      " |-- ISBN: long (nullable = true)\n",
      " |-- BookRating: integer (nullable = true)\n",
      "\n"
     ]
    }
   ],
   "source": [
    "df_ratings.printSchema()"
   ]
  },
  {
   "cell_type": "code",
   "execution_count": 50,
   "id": "8f94b169",
   "metadata": {},
   "outputs": [],
   "source": [
    "df_ratings.registerTempTable(\"ratings\")"
   ]
  },
  {
   "cell_type": "code",
   "execution_count": 51,
   "id": "e52efba6",
   "metadata": {},
   "outputs": [],
   "source": [
    "# Books with maximum ratings"
   ]
  },
  {
   "cell_type": "code",
   "execution_count": 52,
   "id": "6bead4f6",
   "metadata": {},
   "outputs": [
    {
     "data": {
      "text/html": [
       "<div>\n",
       "<style scoped>\n",
       "    .dataframe tbody tr th:only-of-type {\n",
       "        vertical-align: middle;\n",
       "    }\n",
       "\n",
       "    .dataframe tbody tr th {\n",
       "        vertical-align: top;\n",
       "    }\n",
       "\n",
       "    .dataframe thead th {\n",
       "        text-align: right;\n",
       "    }\n",
       "</style>\n",
       "<table border=\"1\" class=\"dataframe\">\n",
       "  <thead>\n",
       "    <tr style=\"text-align: right;\">\n",
       "      <th></th>\n",
       "      <th>BookTitle</th>\n",
       "      <th>Total_Ratings</th>\n",
       "    </tr>\n",
       "  </thead>\n",
       "  <tbody>\n",
       "    <tr>\n",
       "      <th>0</th>\n",
       "      <td>The Lovely Bones: A Novel</td>\n",
       "      <td>5787</td>\n",
       "    </tr>\n",
       "  </tbody>\n",
       "</table>\n",
       "</div>"
      ],
      "text/plain": [
       "                   BookTitle  Total_Ratings\n",
       "0  The Lovely Bones: A Novel           5787"
      ]
     },
     "execution_count": 52,
     "metadata": {},
     "output_type": "execute_result"
    }
   ],
   "source": [
    "query9=spark.sql(\"select b.BookTitle, sum(r.BookRating) as Total_Ratings from books b join ratingS r on b.ISBN = r.ISBN group by b.BookTitle order by Total_Ratings desc limit 1\")\n",
    "query9.toPandas()"
   ]
  },
  {
   "cell_type": "code",
   "execution_count": 53,
   "id": "74938fd2",
   "metadata": {},
   "outputs": [],
   "source": [
    "# Authors with maximum ratings"
   ]
  },
  {
   "cell_type": "code",
   "execution_count": 54,
   "id": "aa4465f6",
   "metadata": {},
   "outputs": [],
   "source": [
    "query10=spark.sql(\"select b.BookAuthor, sum(r.BookRating) as Total_Ratings from books b join ratingS r on b.ISBN = r.ISBN group by b.BookAuthor order by Total_Ratings desc limit 1\")"
   ]
  },
  {
   "cell_type": "code",
   "execution_count": 55,
   "id": "421f12d2",
   "metadata": {},
   "outputs": [
    {
     "data": {
      "text/html": [
       "<div>\n",
       "<style scoped>\n",
       "    .dataframe tbody tr th:only-of-type {\n",
       "        vertical-align: middle;\n",
       "    }\n",
       "\n",
       "    .dataframe tbody tr th {\n",
       "        vertical-align: top;\n",
       "    }\n",
       "\n",
       "    .dataframe thead th {\n",
       "        text-align: right;\n",
       "    }\n",
       "</style>\n",
       "<table border=\"1\" class=\"dataframe\">\n",
       "  <thead>\n",
       "    <tr style=\"text-align: right;\">\n",
       "      <th></th>\n",
       "      <th>BookAuthor</th>\n",
       "      <th>Total_Ratings</th>\n",
       "    </tr>\n",
       "  </thead>\n",
       "  <tbody>\n",
       "    <tr>\n",
       "      <th>0</th>\n",
       "      <td>Stephen King</td>\n",
       "      <td>34202</td>\n",
       "    </tr>\n",
       "  </tbody>\n",
       "</table>\n",
       "</div>"
      ],
      "text/plain": [
       "     BookAuthor  Total_Ratings\n",
       "0  Stephen King          34202"
      ]
     },
     "execution_count": 55,
     "metadata": {},
     "output_type": "execute_result"
    }
   ],
   "source": [
    "query10.toPandas()"
   ]
  },
  {
   "cell_type": "code",
   "execution_count": 56,
   "id": "295fc5e1",
   "metadata": {},
   "outputs": [],
   "source": [
    "# Publishers which have published maximum number of books"
   ]
  },
  {
   "cell_type": "code",
   "execution_count": 57,
   "id": "cbb3918f",
   "metadata": {},
   "outputs": [],
   "source": [
    "query11=spark.sql(\"select Publisher, count(Publisher) as Count from books group by Publisher order by Count desc limit 1\")"
   ]
  },
  {
   "cell_type": "code",
   "execution_count": 58,
   "id": "047d20cc",
   "metadata": {},
   "outputs": [
    {
     "data": {
      "text/html": [
       "<div>\n",
       "<style scoped>\n",
       "    .dataframe tbody tr th:only-of-type {\n",
       "        vertical-align: middle;\n",
       "    }\n",
       "\n",
       "    .dataframe tbody tr th {\n",
       "        vertical-align: top;\n",
       "    }\n",
       "\n",
       "    .dataframe thead th {\n",
       "        text-align: right;\n",
       "    }\n",
       "</style>\n",
       "<table border=\"1\" class=\"dataframe\">\n",
       "  <thead>\n",
       "    <tr style=\"text-align: right;\">\n",
       "      <th></th>\n",
       "      <th>Publisher</th>\n",
       "      <th>Count</th>\n",
       "    </tr>\n",
       "  </thead>\n",
       "  <tbody>\n",
       "    <tr>\n",
       "      <th>0</th>\n",
       "      <td>Harlequin</td>\n",
       "      <td>7533</td>\n",
       "    </tr>\n",
       "  </tbody>\n",
       "</table>\n",
       "</div>"
      ],
      "text/plain": [
       "   Publisher  Count\n",
       "0  Harlequin   7533"
      ]
     },
     "execution_count": 58,
     "metadata": {},
     "output_type": "execute_result"
    }
   ],
   "source": [
    "query11.toPandas()"
   ]
  }
 ],
 "metadata": {
  "kernelspec": {
   "display_name": "Python 3",
   "language": "python",
   "name": "python3"
  },
  "language_info": {
   "codemirror_mode": {
    "name": "ipython",
    "version": 3
   },
   "file_extension": ".py",
   "mimetype": "text/x-python",
   "name": "python",
   "nbconvert_exporter": "python",
   "pygments_lexer": "ipython3",
   "version": "3.9.13"
  }
 },
 "nbformat": 4,
 "nbformat_minor": 5
}
